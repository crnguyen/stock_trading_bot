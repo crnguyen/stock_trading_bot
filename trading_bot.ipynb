{
 "cells": [
  {
   "cell_type": "code",
   "execution_count": 1,
   "metadata": {},
   "outputs": [],
   "source": [
    "from selenium import webdriver"
   ]
  },
  {
   "cell_type": "code",
   "execution_count": 2,
   "metadata": {},
   "outputs": [],
   "source": [
    "import datetime, re, requests, io, time, random, string"
   ]
  },
  {
   "cell_type": "code",
   "execution_count": 3,
   "metadata": {},
   "outputs": [],
   "source": [
    "from bs4 import BeautifulSoup"
   ]
  },
  {
   "cell_type": "code",
   "execution_count": 11,
   "metadata": {},
   "outputs": [],
   "source": [
    "from credentials import email, password"
   ]
  },
  {
   "cell_type": "code",
   "execution_count": 14,
   "metadata": {},
   "outputs": [
    {
     "name": "stdout",
     "output_type": "stream",
     "text": [
      "c.nguyen0994@gmail.com\n"
     ]
    }
   ],
   "source": [
    "print(email)"
   ]
  },
  {
   "cell_type": "code",
   "execution_count": 4,
   "metadata": {},
   "outputs": [],
   "source": [
    "driver = webdriver.Chrome('/Users/cristinanguyen/Downloads/chromedriver')"
   ]
  },
  {
   "cell_type": "code",
   "execution_count": 5,
   "metadata": {},
   "outputs": [],
   "source": [
    "#go to wallmine.com\n",
    "driver.get('https://wallmine.com')"
   ]
  },
  {
   "cell_type": "code",
   "execution_count": 8,
   "metadata": {},
   "outputs": [
    {
     "name": "stdout",
     "output_type": "stream",
     "text": [
      "going to sign in page\n"
     ]
    }
   ],
   "source": [
    "#conditional to check if we are on the right page\n",
    "if \"Make Smarter Investments\" in driver.page_source:\n",
    "    sign_in_link = driver.find_element_by_xpath('/html/body/main/header/div/ul/li[1]/ul/li[3]/a')\n",
    "    sign_in_link.click()\n",
    "    time.sleep(3) #time delay/loading\n",
    "    print('going to sign in page')"
   ]
  },
  {
   "cell_type": "code",
   "execution_count": 21,
   "metadata": {},
   "outputs": [],
   "source": [
    "if \"Sign in here, please.\" in driver.page_source: #conditional to make sure youre on sign in page\n",
    "    login_email = driver.find_element_by_xpath('//*[@id=\"user_email\"]')\n",
    "    sign_in_password = driver.find_element_by_xpath('//*[@id=\"new_user\"]/div[5]/div[1]/div[2]')\n",
    "    sign_in_password.click()\n",
    "    time.sleep(0.2)"
   ]
  },
  {
   "cell_type": "code",
   "execution_count": 22,
   "metadata": {},
   "outputs": [],
   "source": [
    "login_password = driver.find_element_by_xpath('//*[@id=\"user_password\"]')\n",
    "sign_in_button = driver.find_element_by_xpath('//*[@id=\"new_user\"]/div[5]/div[2]/div[1]/button')"
   ]
  },
  {
   "cell_type": "code",
   "execution_count": 23,
   "metadata": {},
   "outputs": [],
   "source": [
    "login_email.send_keys(email)\n",
    "login_password.send_keys(password)\n",
    "sign_in_button.click()\n",
    "time.sleep(3)"
   ]
  },
  {
   "cell_type": "code",
   "execution_count": 25,
   "metadata": {},
   "outputs": [
    {
     "name": "stdout",
     "output_type": "stream",
     "text": [
      "on the main page\n"
     ]
    }
   ],
   "source": [
    " if \"Stock market overview\" in driver.page_source:\n",
    "        print('on the main page')\n",
    "        heatmap = driver.find_element_by_xpath('//*[@id=\"homepage-heatmap\"]/a/div[2]')\n",
    "        heatmap.click()\n",
    "        time.sleep(2)"
   ]
  },
  {
   "cell_type": "code",
   "execution_count": 26,
   "metadata": {},
   "outputs": [],
   "source": [
    "overview_tab = driver.find_element_by_xpath('/html/body/main/section/div[5]/div/div/div[1]/div/ul/li[1]/a')\n",
    "overview_tab.click()\n",
    "time.sleep(3)"
   ]
  },
  {
   "cell_type": "code",
   "execution_count": null,
   "metadata": {},
   "outputs": [],
   "source": []
  }
 ],
 "metadata": {
  "kernelspec": {
   "display_name": "Python 3",
   "language": "python",
   "name": "python3"
  },
  "language_info": {
   "codemirror_mode": {
    "name": "ipython",
    "version": 3
   },
   "file_extension": ".py",
   "mimetype": "text/x-python",
   "name": "python",
   "nbconvert_exporter": "python",
   "pygments_lexer": "ipython3",
   "version": "3.8.5"
  }
 },
 "nbformat": 4,
 "nbformat_minor": 4
}
